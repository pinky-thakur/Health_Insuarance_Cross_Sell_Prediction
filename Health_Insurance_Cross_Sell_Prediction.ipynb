{
  "nbformat": 4,
  "nbformat_minor": 0,
  "metadata": {
    "colab": {
      "name": "Health_Insurance_Cross_Sell_Prediction.ipynb",
      "provenance": [],
      "authorship_tag": "ABX9TyN0jDVksLo1Md1Fs1Iv23zO",
      "include_colab_link": true
    },
    "kernelspec": {
      "name": "python3",
      "display_name": "Python 3"
    },
    "language_info": {
      "name": "python"
    }
  },
  "cells": [
    {
      "cell_type": "markdown",
      "metadata": {
        "id": "view-in-github",
        "colab_type": "text"
      },
      "source": [
        "<a href=\"https://colab.research.google.com/github/pinky-thakur/Health_Insuarance_Cross_Sell_Prediction/blob/main/Health_Insurance_Cross_Sell_Prediction.ipynb\" target=\"_parent\"><img src=\"https://colab.research.google.com/assets/colab-badge.svg\" alt=\"Open In Colab\"/></a>"
      ]
    },
    {
      "cell_type": "markdown",
      "metadata": {
        "id": "LGcl5Bv9ed6u"
      },
      "source": [
        "# **Problem Statement**"
      ]
    },
    {
      "cell_type": "markdown",
      "metadata": {
        "id": "jJAmGx75jJk1"
      },
      "source": [
        "Our client is an Insurance company that has provided Health Insurance to its customers now they need your help in building a model to predict whether the policyholders (customers) from past year will also be interested in Vehicle Insurance provided by the company.\n",
        "\n",
        "An insurance policy is an arrangement by which a company undertakes to provide a guarantee of compensation for specified loss, damage, illness, or death in return for the payment of a specified premium. A premium is a sum of money that the customer needs to pay regularly to an insurance company for this guarantee.\n",
        "\n",
        "For example, you may pay a premium of Rs. 5000 each year for a health insurance cover of Rs. 200,000/- so that if, God forbid, you fall ill and need to be hospitalised in that year, the insurance provider company will bear the cost of hospitalisation etc. for upto Rs. 200,000. Now if you are wondering how can company bear such high hospitalisation cost when it charges a premium of only Rs. 5000/-, that is where the concept of probabilities comes in picture. For example, like you, there may be 100 customers who would be paying a premium of Rs. 5000 every year, but only a few of them (say 2-3) would get hospitalised that year and not everyone. This way everyone shares the risk of everyone else.\n",
        "\n",
        "Just like medical insurance, there is vehicle insurance where every year customer needs to pay a premium of certain amount to insurance provider company so that in case of unfortunate accident by the vehicle, the insurance provider company will provide a compensation (called ‘sum assured’) to the customer.\n",
        "\n",
        "Building a model to predict whether a customer would be interested in Vehicle Insurance is extremely helpful for the company because it can then accordingly plan its communication strategy to reach out to those customers and optimise its business model and revenue.\n",
        "\n",
        "Now, in order to predict, whether the customer would be interested in Vehicle insurance, you have information about demographics (gender, age, region code type), Vehicles (Vehicle Age, Damage), Policy (Premium, sourcing channel) etc."
      ]
    },
    {
      "cell_type": "markdown",
      "metadata": {
        "id": "AzGDqdC4fZ-b"
      },
      "source": [
        "# **Attribute Information**"
      ]
    },
    {
      "cell_type": "markdown",
      "metadata": {
        "id": "oEJxl68MjYbs"
      },
      "source": [
        "1. id :\tUnique ID for the customer\n",
        "\n",
        "2. Gender\t: Gender of the customer\n",
        "\n",
        "3. Age :\tAge of the customer\n",
        "\n",
        "4. Driving_License\t0 : Customer does not have DL, 1 : Customer already has DL\n",
        "\n",
        "5. Region_Code :\tUnique code for the region of the customer\n",
        "\n",
        "6. Previously_Insured\t: 1 : Customer already has Vehicle Insurance, 0 : Customer doesn't have Vehicle Insurance\n",
        "\n",
        "7. Vehicle_Age :\tAge of the Vehicle\n",
        "\n",
        "8. Vehicle_Damage\t :1 : Customer got his/her vehicle damaged in the past. 0 : Customer didn't get his/her vehicle damaged in the past.\n",
        "\n",
        "9. Annual_Premium\t: The amount customer needs to pay as premium in the year\n",
        "\n",
        "10. PolicySalesChannel :\tAnonymized Code for the channel of outreaching to the customer ie. Different Agents, Over Mail, Over Phone, In Person, etc.\n",
        "\n",
        "11. Vintage :\tNumber of Days, Customer has been associated with the company\n",
        "\n",
        "12. Response :\t1 : Customer is interested, 0 : Customer is not interested"
      ]
    },
    {
      "cell_type": "markdown",
      "metadata": {
        "id": "BmC960XFZnK4"
      },
      "source": [
        "# Importing Required Libraries"
      ]
    },
    {
      "cell_type": "code",
      "source": [
        "!pip install sidetable"
      ],
      "metadata": {
        "colab": {
          "base_uri": "https://localhost:8080/"
        },
        "id": "MQXEe7BAfCgj",
        "outputId": "cf42e951-2509-475e-e362-3a3d50af4e21"
      },
      "execution_count": null,
      "outputs": [
        {
          "output_type": "stream",
          "name": "stdout",
          "text": [
            "Looking in indexes: https://pypi.org/simple, https://us-python.pkg.dev/colab-wheels/public/simple/\n",
            "Collecting sidetable\n",
            "  Downloading sidetable-0.9.0-py3-none-any.whl (17 kB)\n",
            "Requirement already satisfied: pandas>=1.0 in /usr/local/lib/python3.7/dist-packages (from sidetable) (1.3.5)\n",
            "Requirement already satisfied: pytz>=2017.3 in /usr/local/lib/python3.7/dist-packages (from pandas>=1.0->sidetable) (2022.1)\n",
            "Requirement already satisfied: python-dateutil>=2.7.3 in /usr/local/lib/python3.7/dist-packages (from pandas>=1.0->sidetable) (2.8.2)\n",
            "Requirement already satisfied: numpy>=1.17.3 in /usr/local/lib/python3.7/dist-packages (from pandas>=1.0->sidetable) (1.21.6)\n",
            "Requirement already satisfied: six>=1.5 in /usr/local/lib/python3.7/dist-packages (from python-dateutil>=2.7.3->pandas>=1.0->sidetable) (1.15.0)\n",
            "Installing collected packages: sidetable\n",
            "Successfully installed sidetable-0.9.0\n"
          ]
        }
      ]
    },
    {
      "cell_type": "code",
      "execution_count": null,
      "metadata": {
        "id": "cYk8tJ2lZnK4"
      },
      "outputs": [],
      "source": [
        "# To load data from file\n",
        "import pandas as pd \n",
        "\n",
        "# To perform mathemetiacal operations\n",
        "import numpy as np\n",
        "\n",
        "from scipy import stats as st\n",
        "\n",
        "# To visualize data and get insight from the data\n",
        "import matplotlib.pyplot as plt\n",
        "import seaborn as sns\n",
        "\n",
        "# sidetable is a super-charged version of pandas value_counts with a little bit of crosstab mixed in\n",
        "import sidetable as stb\n",
        "\n",
        "# To avoid the warning that aren't necessarily exceptions\n",
        "import warnings\n",
        "warnings.filterwarnings('ignore')\n",
        "\n",
        "# Sets the backend of seaborn to the 'inline' backend\n",
        "sns.set()\n",
        "# Sets the backend of matplotlib to the 'inline' backend\n",
        "%matplotlib inline\n",
        "\n",
        "# Pre-defining the font type and size to provide same throughout the code\n",
        "font = {'family' : 'normal',\n",
        "        'size'   : 16}\n",
        "plt.rc('font', **font)\n",
        "\n",
        "# Pre-defining the color schema\n",
        "# Pre-defining the color schema\n",
        "sns.set_palette('gist_ncar')"
      ]
    },
    {
      "cell_type": "code",
      "source": [
        "# Mounting drive and read the csv file\n",
        "from google.colab import drive\n",
        "drive.mount('/content/drive')"
      ],
      "metadata": {
        "colab": {
          "base_uri": "https://localhost:8080/"
        },
        "id": "p0Go5u9jejmV",
        "outputId": "3291a39f-593e-4ba8-d661-60bcd5ec5ca7"
      },
      "execution_count": null,
      "outputs": [
        {
          "output_type": "stream",
          "name": "stdout",
          "text": [
            "Mounted at /content/drive\n"
          ]
        }
      ]
    },
    {
      "cell_type": "markdown",
      "metadata": {
        "id": "hq6Xz43yZnK6"
      },
      "source": [
        "### Loading Dataset from csv file"
      ]
    },
    {
      "cell_type": "code",
      "execution_count": null,
      "metadata": {
        "id": "_553UfYOZnK7"
      },
      "outputs": [],
      "source": [
        "# Using pandas read_csv method to load the data\n",
        "path = '/content/drive/MyDrive/Health_Insurance_Cross_Sell_Prediction/TRAIN-HEALTH INSURANCE CROSS SELL PREDICTION.csv'\n",
        "data = pd.read_csv(path)"
      ]
    },
    {
      "cell_type": "markdown",
      "metadata": {
        "id": "hEUfS-OBZnK7"
      },
      "source": [
        "### Getting the first 5 rows of the data."
      ]
    },
    {
      "cell_type": "code",
      "execution_count": null,
      "metadata": {
        "id": "TWFLDvxEZnK8",
        "outputId": "6c330b39-9961-429e-e496-c43db9821715"
      },
      "outputs": [
        {
          "data": {
            "text/html": [
              "<div>\n",
              "<style scoped>\n",
              "    .dataframe tbody tr th:only-of-type {\n",
              "        vertical-align: middle;\n",
              "    }\n",
              "\n",
              "    .dataframe tbody tr th {\n",
              "        vertical-align: top;\n",
              "    }\n",
              "\n",
              "    .dataframe thead th {\n",
              "        text-align: right;\n",
              "    }\n",
              "</style>\n",
              "<table border=\"1\" class=\"dataframe\">\n",
              "  <thead>\n",
              "    <tr style=\"text-align: right;\">\n",
              "      <th></th>\n",
              "      <th>id</th>\n",
              "      <th>Gender</th>\n",
              "      <th>Age</th>\n",
              "      <th>Driving_License</th>\n",
              "      <th>Region_Code</th>\n",
              "      <th>Previously_Insured</th>\n",
              "      <th>Vehicle_Age</th>\n",
              "      <th>Vehicle_Damage</th>\n",
              "      <th>Annual_Premium</th>\n",
              "      <th>Policy_Sales_Channel</th>\n",
              "      <th>Vintage</th>\n",
              "      <th>Response</th>\n",
              "    </tr>\n",
              "  </thead>\n",
              "  <tbody>\n",
              "    <tr>\n",
              "      <th>0</th>\n",
              "      <td>1</td>\n",
              "      <td>Male</td>\n",
              "      <td>44</td>\n",
              "      <td>1</td>\n",
              "      <td>28.0</td>\n",
              "      <td>0</td>\n",
              "      <td>&gt; 2 Years</td>\n",
              "      <td>Yes</td>\n",
              "      <td>40454.0</td>\n",
              "      <td>26.0</td>\n",
              "      <td>217</td>\n",
              "      <td>1</td>\n",
              "    </tr>\n",
              "    <tr>\n",
              "      <th>1</th>\n",
              "      <td>2</td>\n",
              "      <td>Male</td>\n",
              "      <td>76</td>\n",
              "      <td>1</td>\n",
              "      <td>3.0</td>\n",
              "      <td>0</td>\n",
              "      <td>1-2 Year</td>\n",
              "      <td>No</td>\n",
              "      <td>33536.0</td>\n",
              "      <td>26.0</td>\n",
              "      <td>183</td>\n",
              "      <td>0</td>\n",
              "    </tr>\n",
              "    <tr>\n",
              "      <th>2</th>\n",
              "      <td>3</td>\n",
              "      <td>Male</td>\n",
              "      <td>47</td>\n",
              "      <td>1</td>\n",
              "      <td>28.0</td>\n",
              "      <td>0</td>\n",
              "      <td>&gt; 2 Years</td>\n",
              "      <td>Yes</td>\n",
              "      <td>38294.0</td>\n",
              "      <td>26.0</td>\n",
              "      <td>27</td>\n",
              "      <td>1</td>\n",
              "    </tr>\n",
              "    <tr>\n",
              "      <th>3</th>\n",
              "      <td>4</td>\n",
              "      <td>Male</td>\n",
              "      <td>21</td>\n",
              "      <td>1</td>\n",
              "      <td>11.0</td>\n",
              "      <td>1</td>\n",
              "      <td>&lt; 1 Year</td>\n",
              "      <td>No</td>\n",
              "      <td>28619.0</td>\n",
              "      <td>152.0</td>\n",
              "      <td>203</td>\n",
              "      <td>0</td>\n",
              "    </tr>\n",
              "    <tr>\n",
              "      <th>4</th>\n",
              "      <td>5</td>\n",
              "      <td>Female</td>\n",
              "      <td>29</td>\n",
              "      <td>1</td>\n",
              "      <td>41.0</td>\n",
              "      <td>1</td>\n",
              "      <td>&lt; 1 Year</td>\n",
              "      <td>No</td>\n",
              "      <td>27496.0</td>\n",
              "      <td>152.0</td>\n",
              "      <td>39</td>\n",
              "      <td>0</td>\n",
              "    </tr>\n",
              "  </tbody>\n",
              "</table>\n",
              "</div>"
            ],
            "text/plain": [
              "   id  Gender  Age  Driving_License  Region_Code  Previously_Insured  \\\n",
              "0   1    Male   44                1         28.0                   0   \n",
              "1   2    Male   76                1          3.0                   0   \n",
              "2   3    Male   47                1         28.0                   0   \n",
              "3   4    Male   21                1         11.0                   1   \n",
              "4   5  Female   29                1         41.0                   1   \n",
              "\n",
              "  Vehicle_Age Vehicle_Damage  Annual_Premium  Policy_Sales_Channel  Vintage  \\\n",
              "0   > 2 Years            Yes         40454.0                  26.0      217   \n",
              "1    1-2 Year             No         33536.0                  26.0      183   \n",
              "2   > 2 Years            Yes         38294.0                  26.0       27   \n",
              "3    < 1 Year             No         28619.0                 152.0      203   \n",
              "4    < 1 Year             No         27496.0                 152.0       39   \n",
              "\n",
              "   Response  \n",
              "0         1  \n",
              "1         0  \n",
              "2         1  \n",
              "3         0  \n",
              "4         0  "
            ]
          },
          "execution_count": 206,
          "metadata": {},
          "output_type": "execute_result"
        }
      ],
      "source": [
        "# using pandas head function.\n",
        "\n",
        "data.head()"
      ]
    },
    {
      "cell_type": "markdown",
      "metadata": {
        "id": "pJIv9h2AZnK9"
      },
      "source": [
        "### Getting the last 5 rows of the data."
      ]
    },
    {
      "cell_type": "code",
      "execution_count": null,
      "metadata": {
        "id": "-j0-snkoZnK9",
        "outputId": "1bc854b5-c829-4f78-9d15-9c9e907bfe95"
      },
      "outputs": [
        {
          "data": {
            "text/html": [
              "<div>\n",
              "<style scoped>\n",
              "    .dataframe tbody tr th:only-of-type {\n",
              "        vertical-align: middle;\n",
              "    }\n",
              "\n",
              "    .dataframe tbody tr th {\n",
              "        vertical-align: top;\n",
              "    }\n",
              "\n",
              "    .dataframe thead th {\n",
              "        text-align: right;\n",
              "    }\n",
              "</style>\n",
              "<table border=\"1\" class=\"dataframe\">\n",
              "  <thead>\n",
              "    <tr style=\"text-align: right;\">\n",
              "      <th></th>\n",
              "      <th>id</th>\n",
              "      <th>Gender</th>\n",
              "      <th>Age</th>\n",
              "      <th>Driving_License</th>\n",
              "      <th>Region_Code</th>\n",
              "      <th>Previously_Insured</th>\n",
              "      <th>Vehicle_Age</th>\n",
              "      <th>Vehicle_Damage</th>\n",
              "      <th>Annual_Premium</th>\n",
              "      <th>Policy_Sales_Channel</th>\n",
              "      <th>Vintage</th>\n",
              "      <th>Response</th>\n",
              "    </tr>\n",
              "  </thead>\n",
              "  <tbody>\n",
              "    <tr>\n",
              "      <th>381104</th>\n",
              "      <td>381105</td>\n",
              "      <td>Male</td>\n",
              "      <td>74</td>\n",
              "      <td>1</td>\n",
              "      <td>26.0</td>\n",
              "      <td>1</td>\n",
              "      <td>1-2 Year</td>\n",
              "      <td>No</td>\n",
              "      <td>30170.0</td>\n",
              "      <td>26.0</td>\n",
              "      <td>88</td>\n",
              "      <td>0</td>\n",
              "    </tr>\n",
              "    <tr>\n",
              "      <th>381105</th>\n",
              "      <td>381106</td>\n",
              "      <td>Male</td>\n",
              "      <td>30</td>\n",
              "      <td>1</td>\n",
              "      <td>37.0</td>\n",
              "      <td>1</td>\n",
              "      <td>&lt; 1 Year</td>\n",
              "      <td>No</td>\n",
              "      <td>40016.0</td>\n",
              "      <td>152.0</td>\n",
              "      <td>131</td>\n",
              "      <td>0</td>\n",
              "    </tr>\n",
              "    <tr>\n",
              "      <th>381106</th>\n",
              "      <td>381107</td>\n",
              "      <td>Male</td>\n",
              "      <td>21</td>\n",
              "      <td>1</td>\n",
              "      <td>30.0</td>\n",
              "      <td>1</td>\n",
              "      <td>&lt; 1 Year</td>\n",
              "      <td>No</td>\n",
              "      <td>35118.0</td>\n",
              "      <td>160.0</td>\n",
              "      <td>161</td>\n",
              "      <td>0</td>\n",
              "    </tr>\n",
              "    <tr>\n",
              "      <th>381107</th>\n",
              "      <td>381108</td>\n",
              "      <td>Female</td>\n",
              "      <td>68</td>\n",
              "      <td>1</td>\n",
              "      <td>14.0</td>\n",
              "      <td>0</td>\n",
              "      <td>&gt; 2 Years</td>\n",
              "      <td>Yes</td>\n",
              "      <td>44617.0</td>\n",
              "      <td>124.0</td>\n",
              "      <td>74</td>\n",
              "      <td>0</td>\n",
              "    </tr>\n",
              "    <tr>\n",
              "      <th>381108</th>\n",
              "      <td>381109</td>\n",
              "      <td>Male</td>\n",
              "      <td>46</td>\n",
              "      <td>1</td>\n",
              "      <td>29.0</td>\n",
              "      <td>0</td>\n",
              "      <td>1-2 Year</td>\n",
              "      <td>No</td>\n",
              "      <td>41777.0</td>\n",
              "      <td>26.0</td>\n",
              "      <td>237</td>\n",
              "      <td>0</td>\n",
              "    </tr>\n",
              "  </tbody>\n",
              "</table>\n",
              "</div>"
            ],
            "text/plain": [
              "            id  Gender  Age  Driving_License  Region_Code  Previously_Insured  \\\n",
              "381104  381105    Male   74                1         26.0                   1   \n",
              "381105  381106    Male   30                1         37.0                   1   \n",
              "381106  381107    Male   21                1         30.0                   1   \n",
              "381107  381108  Female   68                1         14.0                   0   \n",
              "381108  381109    Male   46                1         29.0                   0   \n",
              "\n",
              "       Vehicle_Age Vehicle_Damage  Annual_Premium  Policy_Sales_Channel  \\\n",
              "381104    1-2 Year             No         30170.0                  26.0   \n",
              "381105    < 1 Year             No         40016.0                 152.0   \n",
              "381106    < 1 Year             No         35118.0                 160.0   \n",
              "381107   > 2 Years            Yes         44617.0                 124.0   \n",
              "381108    1-2 Year             No         41777.0                  26.0   \n",
              "\n",
              "        Vintage  Response  \n",
              "381104       88         0  \n",
              "381105      131         0  \n",
              "381106      161         0  \n",
              "381107       74         0  \n",
              "381108      237         0  "
            ]
          },
          "execution_count": 207,
          "metadata": {},
          "output_type": "execute_result"
        }
      ],
      "source": [
        "# using pandas tail function.\n",
        "\n",
        "data.tail()"
      ]
    },
    {
      "cell_type": "markdown",
      "metadata": {
        "id": "7ba0MvsHZnK-"
      },
      "source": [
        "### Getting the columns present in our data."
      ]
    },
    {
      "cell_type": "code",
      "execution_count": null,
      "metadata": {
        "id": "mpoIXlDfZnK-",
        "outputId": "d41edb4c-d9d1-4adb-ff16-8edbd72b3328"
      },
      "outputs": [
        {
          "name": "stdout",
          "output_type": "stream",
          "text": [
            "Columns in our data:\n"
          ]
        },
        {
          "data": {
            "text/plain": [
              "['id',\n",
              " 'Gender',\n",
              " 'Age',\n",
              " 'Driving_License',\n",
              " 'Region_Code',\n",
              " 'Previously_Insured',\n",
              " 'Vehicle_Age',\n",
              " 'Vehicle_Damage',\n",
              " 'Annual_Premium',\n",
              " 'Policy_Sales_Channel',\n",
              " 'Vintage',\n",
              " 'Response']"
            ]
          },
          "execution_count": 208,
          "metadata": {},
          "output_type": "execute_result"
        }
      ],
      "source": [
        "# using pandas columns method\n",
        "\n",
        "print('Columns in our data:')\n",
        "\n",
        "data.columns.tolist()"
      ]
    },
    {
      "cell_type": "markdown",
      "metadata": {
        "id": "VhJ0tqzIZnK-"
      },
      "source": [
        "### Getting the shape of the data."
      ]
    },
    {
      "cell_type": "code",
      "execution_count": null,
      "metadata": {
        "id": "JEZlGgsEZnK_",
        "outputId": "6e01014b-dc89-433d-d987-852002f7fd7c"
      },
      "outputs": [
        {
          "name": "stdout",
          "output_type": "stream",
          "text": [
            "Shape of our dataset : \n"
          ]
        },
        {
          "data": {
            "text/plain": [
              "(381109, 12)"
            ]
          },
          "execution_count": 209,
          "metadata": {},
          "output_type": "execute_result"
        }
      ],
      "source": [
        "# using pandas shape method to get the shape of our dataset\n",
        "\n",
        "print('Shape of our dataset : ')\n",
        "data.shape"
      ]
    },
    {
      "cell_type": "code",
      "execution_count": null,
      "metadata": {
        "id": "zboRTCRhZnK_",
        "outputId": "d5d0f387-0f8c-499c-d720-84cd70ec646a"
      },
      "outputs": [
        {
          "name": "stdout",
          "output_type": "stream",
          "text": [
            "Number of columns :  12 \n",
            "\n",
            "number of rows :  381109\n"
          ]
        }
      ],
      "source": [
        "print('Number of columns : ',data.shape[1],'\\n')\n",
        "\n",
        "print('number of rows : ',data.shape[0])"
      ]
    },
    {
      "cell_type": "markdown",
      "metadata": {
        "id": "o0vh7rDdZnK_"
      },
      "source": [
        "* <b>Checking the data types of each column</b>"
      ]
    },
    {
      "cell_type": "code",
      "execution_count": null,
      "metadata": {
        "id": "_tpnTCCMZnK_",
        "outputId": "523bcabb-b4cf-48fd-d0f2-1471f88a2121"
      },
      "outputs": [
        {
          "data": {
            "text/plain": [
              "id                        int64\n",
              "Gender                   object\n",
              "Age                       int64\n",
              "Driving_License           int64\n",
              "Region_Code             float64\n",
              "Previously_Insured        int64\n",
              "Vehicle_Age              object\n",
              "Vehicle_Damage           object\n",
              "Annual_Premium          float64\n",
              "Policy_Sales_Channel    float64\n",
              "Vintage                   int64\n",
              "Response                  int64\n",
              "dtype: object"
            ]
          },
          "execution_count": 211,
          "metadata": {},
          "output_type": "execute_result"
        }
      ],
      "source": [
        "data.dtypes"
      ]
    },
    {
      "cell_type": "markdown",
      "metadata": {
        "id": "XysiVjagZnLA"
      },
      "source": [
        "### Getting the type of data present in columns."
      ]
    },
    {
      "cell_type": "code",
      "execution_count": null,
      "metadata": {
        "id": "tFYx513-ZnLA",
        "outputId": "03973e77-62ba-4a19-ed4a-2a130eb01de4"
      },
      "outputs": [
        {
          "name": "stdout",
          "output_type": "stream",
          "text": [
            "The number of Numerical columns are: 9\n",
            "\n",
            "The number of Categorical columns are: 3\n"
          ]
        }
      ],
      "source": [
        "# printing the number of numerical features and number of categorical features \n",
        "\n",
        "num_col = data.select_dtypes(include = 'number')\n",
        "print(\"The number of Numerical columns are:\",len(num_col.columns))\n",
        "\n",
        "cat_col = data.select_dtypes(include = 'object')\n",
        "print(\"\\nThe number of Categorical columns are:\",len(cat_col.columns))"
      ]
    },
    {
      "cell_type": "code",
      "execution_count": null,
      "metadata": {
        "id": "3e-wlUeNZnLA",
        "outputId": "78e9a2d6-a0e4-4c5d-a801-27f5ae44de60"
      },
      "outputs": [
        {
          "name": "stdout",
          "output_type": "stream",
          "text": [
            "<class 'pandas.core.frame.DataFrame'>\n",
            "RangeIndex: 381109 entries, 0 to 381108\n",
            "Data columns (total 12 columns):\n",
            " #   Column                Non-Null Count   Dtype  \n",
            "---  ------                --------------   -----  \n",
            " 0   id                    381109 non-null  int64  \n",
            " 1   Gender                381109 non-null  object \n",
            " 2   Age                   381109 non-null  int64  \n",
            " 3   Driving_License       381109 non-null  int64  \n",
            " 4   Region_Code           381109 non-null  float64\n",
            " 5   Previously_Insured    381109 non-null  int64  \n",
            " 6   Vehicle_Age           381109 non-null  object \n",
            " 7   Vehicle_Damage        381109 non-null  object \n",
            " 8   Annual_Premium        381109 non-null  float64\n",
            " 9   Policy_Sales_Channel  381109 non-null  float64\n",
            " 10  Vintage               381109 non-null  int64  \n",
            " 11  Response              381109 non-null  int64  \n",
            "dtypes: float64(3), int64(6), object(3)\n",
            "memory usage: 34.9+ MB\n"
          ]
        }
      ],
      "source": [
        "data.info()"
      ]
    },
    {
      "cell_type": "markdown",
      "metadata": {
        "id": "YAAUbVZKZnLB"
      },
      "source": [
        "#### Summary Statistic of the numeric columns"
      ]
    },
    {
      "cell_type": "code",
      "execution_count": null,
      "metadata": {
        "id": "JiWbaFqLZnLB",
        "outputId": "193f2dd4-51fa-4423-f1c3-a931a3f6cc3e"
      },
      "outputs": [
        {
          "data": {
            "text/html": [
              "<div>\n",
              "<style scoped>\n",
              "    .dataframe tbody tr th:only-of-type {\n",
              "        vertical-align: middle;\n",
              "    }\n",
              "\n",
              "    .dataframe tbody tr th {\n",
              "        vertical-align: top;\n",
              "    }\n",
              "\n",
              "    .dataframe thead th {\n",
              "        text-align: right;\n",
              "    }\n",
              "</style>\n",
              "<table border=\"1\" class=\"dataframe\">\n",
              "  <thead>\n",
              "    <tr style=\"text-align: right;\">\n",
              "      <th></th>\n",
              "      <th>count</th>\n",
              "      <th>mean</th>\n",
              "      <th>std</th>\n",
              "      <th>min</th>\n",
              "      <th>25%</th>\n",
              "      <th>50%</th>\n",
              "      <th>75%</th>\n",
              "      <th>max</th>\n",
              "    </tr>\n",
              "  </thead>\n",
              "  <tbody>\n",
              "    <tr>\n",
              "      <th>id</th>\n",
              "      <td>381109.0</td>\n",
              "      <td>190555.000000</td>\n",
              "      <td>110016.836208</td>\n",
              "      <td>1.0</td>\n",
              "      <td>95278.0</td>\n",
              "      <td>190555.0</td>\n",
              "      <td>285832.0</td>\n",
              "      <td>381109.0</td>\n",
              "    </tr>\n",
              "    <tr>\n",
              "      <th>Age</th>\n",
              "      <td>381109.0</td>\n",
              "      <td>38.822584</td>\n",
              "      <td>15.511611</td>\n",
              "      <td>20.0</td>\n",
              "      <td>25.0</td>\n",
              "      <td>36.0</td>\n",
              "      <td>49.0</td>\n",
              "      <td>85.0</td>\n",
              "    </tr>\n",
              "    <tr>\n",
              "      <th>Driving_License</th>\n",
              "      <td>381109.0</td>\n",
              "      <td>0.997869</td>\n",
              "      <td>0.046110</td>\n",
              "      <td>0.0</td>\n",
              "      <td>1.0</td>\n",
              "      <td>1.0</td>\n",
              "      <td>1.0</td>\n",
              "      <td>1.0</td>\n",
              "    </tr>\n",
              "    <tr>\n",
              "      <th>Region_Code</th>\n",
              "      <td>381109.0</td>\n",
              "      <td>26.388807</td>\n",
              "      <td>13.229888</td>\n",
              "      <td>0.0</td>\n",
              "      <td>15.0</td>\n",
              "      <td>28.0</td>\n",
              "      <td>35.0</td>\n",
              "      <td>52.0</td>\n",
              "    </tr>\n",
              "    <tr>\n",
              "      <th>Previously_Insured</th>\n",
              "      <td>381109.0</td>\n",
              "      <td>0.458210</td>\n",
              "      <td>0.498251</td>\n",
              "      <td>0.0</td>\n",
              "      <td>0.0</td>\n",
              "      <td>0.0</td>\n",
              "      <td>1.0</td>\n",
              "      <td>1.0</td>\n",
              "    </tr>\n",
              "    <tr>\n",
              "      <th>Annual_Premium</th>\n",
              "      <td>381109.0</td>\n",
              "      <td>30564.389581</td>\n",
              "      <td>17213.155057</td>\n",
              "      <td>2630.0</td>\n",
              "      <td>24405.0</td>\n",
              "      <td>31669.0</td>\n",
              "      <td>39400.0</td>\n",
              "      <td>540165.0</td>\n",
              "    </tr>\n",
              "    <tr>\n",
              "      <th>Policy_Sales_Channel</th>\n",
              "      <td>381109.0</td>\n",
              "      <td>112.034295</td>\n",
              "      <td>54.203995</td>\n",
              "      <td>1.0</td>\n",
              "      <td>29.0</td>\n",
              "      <td>133.0</td>\n",
              "      <td>152.0</td>\n",
              "      <td>163.0</td>\n",
              "    </tr>\n",
              "    <tr>\n",
              "      <th>Vintage</th>\n",
              "      <td>381109.0</td>\n",
              "      <td>154.347397</td>\n",
              "      <td>83.671304</td>\n",
              "      <td>10.0</td>\n",
              "      <td>82.0</td>\n",
              "      <td>154.0</td>\n",
              "      <td>227.0</td>\n",
              "      <td>299.0</td>\n",
              "    </tr>\n",
              "    <tr>\n",
              "      <th>Response</th>\n",
              "      <td>381109.0</td>\n",
              "      <td>0.122563</td>\n",
              "      <td>0.327936</td>\n",
              "      <td>0.0</td>\n",
              "      <td>0.0</td>\n",
              "      <td>0.0</td>\n",
              "      <td>0.0</td>\n",
              "      <td>1.0</td>\n",
              "    </tr>\n",
              "  </tbody>\n",
              "</table>\n",
              "</div>"
            ],
            "text/plain": [
              "                         count           mean            std     min      25%  \\\n",
              "id                    381109.0  190555.000000  110016.836208     1.0  95278.0   \n",
              "Age                   381109.0      38.822584      15.511611    20.0     25.0   \n",
              "Driving_License       381109.0       0.997869       0.046110     0.0      1.0   \n",
              "Region_Code           381109.0      26.388807      13.229888     0.0     15.0   \n",
              "Previously_Insured    381109.0       0.458210       0.498251     0.0      0.0   \n",
              "Annual_Premium        381109.0   30564.389581   17213.155057  2630.0  24405.0   \n",
              "Policy_Sales_Channel  381109.0     112.034295      54.203995     1.0     29.0   \n",
              "Vintage               381109.0     154.347397      83.671304    10.0     82.0   \n",
              "Response              381109.0       0.122563       0.327936     0.0      0.0   \n",
              "\n",
              "                           50%       75%       max  \n",
              "id                    190555.0  285832.0  381109.0  \n",
              "Age                       36.0      49.0      85.0  \n",
              "Driving_License            1.0       1.0       1.0  \n",
              "Region_Code               28.0      35.0      52.0  \n",
              "Previously_Insured         0.0       1.0       1.0  \n",
              "Annual_Premium         31669.0   39400.0  540165.0  \n",
              "Policy_Sales_Channel     133.0     152.0     163.0  \n",
              "Vintage                  154.0     227.0     299.0  \n",
              "Response                   0.0       0.0       1.0  "
            ]
          },
          "execution_count": 214,
          "metadata": {},
          "output_type": "execute_result"
        }
      ],
      "source": [
        "data.describe().T"
      ]
    },
    {
      "cell_type": "markdown",
      "metadata": {
        "id": "7E1jey8wZnLB"
      },
      "source": [
        "#### Summary Statistic of object form data of columns"
      ]
    },
    {
      "cell_type": "code",
      "execution_count": null,
      "metadata": {
        "id": "3J2EWRh3ZnLB",
        "outputId": "aa84350d-4882-4150-abf7-2744b08820e8"
      },
      "outputs": [
        {
          "data": {
            "text/html": [
              "<div>\n",
              "<style scoped>\n",
              "    .dataframe tbody tr th:only-of-type {\n",
              "        vertical-align: middle;\n",
              "    }\n",
              "\n",
              "    .dataframe tbody tr th {\n",
              "        vertical-align: top;\n",
              "    }\n",
              "\n",
              "    .dataframe thead th {\n",
              "        text-align: right;\n",
              "    }\n",
              "</style>\n",
              "<table border=\"1\" class=\"dataframe\">\n",
              "  <thead>\n",
              "    <tr style=\"text-align: right;\">\n",
              "      <th></th>\n",
              "      <th>count</th>\n",
              "      <th>unique</th>\n",
              "      <th>top</th>\n",
              "      <th>freq</th>\n",
              "    </tr>\n",
              "  </thead>\n",
              "  <tbody>\n",
              "    <tr>\n",
              "      <th>Gender</th>\n",
              "      <td>381109</td>\n",
              "      <td>2</td>\n",
              "      <td>Male</td>\n",
              "      <td>206089</td>\n",
              "    </tr>\n",
              "    <tr>\n",
              "      <th>Vehicle_Age</th>\n",
              "      <td>381109</td>\n",
              "      <td>3</td>\n",
              "      <td>1-2 Year</td>\n",
              "      <td>200316</td>\n",
              "    </tr>\n",
              "    <tr>\n",
              "      <th>Vehicle_Damage</th>\n",
              "      <td>381109</td>\n",
              "      <td>2</td>\n",
              "      <td>Yes</td>\n",
              "      <td>192413</td>\n",
              "    </tr>\n",
              "  </tbody>\n",
              "</table>\n",
              "</div>"
            ],
            "text/plain": [
              "                 count unique       top    freq\n",
              "Gender          381109      2      Male  206089\n",
              "Vehicle_Age     381109      3  1-2 Year  200316\n",
              "Vehicle_Damage  381109      2       Yes  192413"
            ]
          },
          "execution_count": 215,
          "metadata": {},
          "output_type": "execute_result"
        }
      ],
      "source": [
        "data.describe(include = 'object').T"
      ]
    },
    {
      "cell_type": "code",
      "execution_count": null,
      "metadata": {
        "id": "RC8GXAa0ZnLC"
      },
      "outputs": [],
      "source": [
        "# In our dataset there are lots of unique values in lots of columns \n",
        "# Getting the number of unique values present in these columns\n",
        "\n",
        "# Using Dictionary Comprehension to get the dictionary of the columns containing more than 1 unique value\n",
        "\n",
        "unique_count_dict = {column: len(data[column].unique()) for column in data.columns}"
      ]
    },
    {
      "cell_type": "code",
      "execution_count": null,
      "metadata": {
        "id": "M0l2t9y2ZnLC"
      },
      "outputs": [],
      "source": [
        "# Creating seperate list of columns and count from the keys and values of the unique_count_dict\n",
        "\n",
        "column_list = list(unique_count_dict.keys())\n",
        "unique_value_count = list(unique_count_dict.values())"
      ]
    },
    {
      "cell_type": "code",
      "execution_count": null,
      "metadata": {
        "id": "9CQHPlQ5ZnLC",
        "outputId": "c112147c-6b55-41f4-ebde-0a6cb49e251a"
      },
      "outputs": [
        {
          "data": {
            "text/html": [
              "<div>\n",
              "<style scoped>\n",
              "    .dataframe tbody tr th:only-of-type {\n",
              "        vertical-align: middle;\n",
              "    }\n",
              "\n",
              "    .dataframe tbody tr th {\n",
              "        vertical-align: top;\n",
              "    }\n",
              "\n",
              "    .dataframe thead th {\n",
              "        text-align: right;\n",
              "    }\n",
              "</style>\n",
              "<table border=\"1\" class=\"dataframe\">\n",
              "  <thead>\n",
              "    <tr style=\"text-align: right;\">\n",
              "      <th></th>\n",
              "      <th>Column_name</th>\n",
              "      <th>Number_of_Unique_Values</th>\n",
              "    </tr>\n",
              "  </thead>\n",
              "  <tbody>\n",
              "    <tr>\n",
              "      <th>0</th>\n",
              "      <td>Gender</td>\n",
              "      <td>2</td>\n",
              "    </tr>\n",
              "    <tr>\n",
              "      <th>1</th>\n",
              "      <td>Driving_License</td>\n",
              "      <td>2</td>\n",
              "    </tr>\n",
              "    <tr>\n",
              "      <th>2</th>\n",
              "      <td>Previously_Insured</td>\n",
              "      <td>2</td>\n",
              "    </tr>\n",
              "    <tr>\n",
              "      <th>3</th>\n",
              "      <td>Vehicle_Damage</td>\n",
              "      <td>2</td>\n",
              "    </tr>\n",
              "    <tr>\n",
              "      <th>4</th>\n",
              "      <td>Response</td>\n",
              "      <td>2</td>\n",
              "    </tr>\n",
              "    <tr>\n",
              "      <th>5</th>\n",
              "      <td>Vehicle_Age</td>\n",
              "      <td>3</td>\n",
              "    </tr>\n",
              "    <tr>\n",
              "      <th>6</th>\n",
              "      <td>Region_Code</td>\n",
              "      <td>53</td>\n",
              "    </tr>\n",
              "    <tr>\n",
              "      <th>7</th>\n",
              "      <td>Age</td>\n",
              "      <td>66</td>\n",
              "    </tr>\n",
              "    <tr>\n",
              "      <th>8</th>\n",
              "      <td>Policy_Sales_Channel</td>\n",
              "      <td>155</td>\n",
              "    </tr>\n",
              "    <tr>\n",
              "      <th>9</th>\n",
              "      <td>Vintage</td>\n",
              "      <td>290</td>\n",
              "    </tr>\n",
              "    <tr>\n",
              "      <th>10</th>\n",
              "      <td>Annual_Premium</td>\n",
              "      <td>48838</td>\n",
              "    </tr>\n",
              "    <tr>\n",
              "      <th>11</th>\n",
              "      <td>id</td>\n",
              "      <td>381109</td>\n",
              "    </tr>\n",
              "  </tbody>\n",
              "</table>\n",
              "</div>"
            ],
            "text/plain": [
              "             Column_name  Number_of_Unique_Values\n",
              "0                 Gender                        2\n",
              "1        Driving_License                        2\n",
              "2     Previously_Insured                        2\n",
              "3         Vehicle_Damage                        2\n",
              "4               Response                        2\n",
              "5            Vehicle_Age                        3\n",
              "6            Region_Code                       53\n",
              "7                    Age                       66\n",
              "8   Policy_Sales_Channel                      155\n",
              "9                Vintage                      290\n",
              "10        Annual_Premium                    48838\n",
              "11                    id                   381109"
            ]
          },
          "execution_count": 218,
          "metadata": {},
          "output_type": "execute_result"
        }
      ],
      "source": [
        "# Creating the Dataframe to display the columns and there count of unique values\n",
        "\n",
        "unique_count_df = pd.DataFrame({'Column_name' : column_list, 'Number_of_Unique_Values' : unique_value_count})\n",
        "\n",
        "# Sorting this above unique_count_df in ascending order to get to count of unique values present in each column\n",
        "# Also used reset_index to reset the index and drop the previous index as it was shuffled while sorting values\n",
        "\n",
        "unique_count_df.sort_values(by = ['Number_of_Unique_Values']).reset_index(drop = True)"
      ]
    },
    {
      "cell_type": "markdown",
      "metadata": {
        "id": "m5ybDjIKZnLE"
      },
      "source": [
        "### Data Cleaning and Removal of duplicate enteries from the Data\n",
        "\n",
        "As data cleaning is an important task before we perform any kind of analysis on dataset, we will remove or replace the not necessary data from our dataset so that we can get desired outputs by performing EDA on it.\n",
        "\n",
        "We have perfrom following cleaning strategy to overcome the data ambiguity:\n",
        "\n",
        "\n",
        "* Getting missing data\n",
        "* Handling missing data\n",
        "* Checking for duplicate data\n",
        "* Removing duplicate data"
      ]
    },
    {
      "cell_type": "code",
      "execution_count": null,
      "metadata": {
        "id": "3mvLzGKpZnLE",
        "outputId": "cef862e8-6ac1-451d-cc67-eadad9781d29"
      },
      "outputs": [
        {
          "name": "stdout",
          "output_type": "stream",
          "text": [
            "id                      0\n",
            "Gender                  0\n",
            "Age                     0\n",
            "Driving_License         0\n",
            "Region_Code             0\n",
            "Previously_Insured      0\n",
            "Vehicle_Age             0\n",
            "Vehicle_Damage          0\n",
            "Annual_Premium          0\n",
            "Policy_Sales_Channel    0\n",
            "Vintage                 0\n",
            "Response                0\n",
            "dtype: int64\n"
          ]
        }
      ],
      "source": [
        "# Using isnull() from Pandas to get the Null/NaN values in the each column in dataset and \n",
        "# sum() is use to get the sum of missing values present in each column in dataset\n",
        "\n",
        "print(data.isnull().sum())"
      ]
    },
    {
      "cell_type": "markdown",
      "metadata": {
        "id": "OlwHmPO1ZnLF"
      },
      "source": [
        "# Inference\n",
        "\n",
        "* Here we can see that there is <b>no missing value</b> in any feature of our data.\n",
        "\n",
        "\n",
        "* So we donot need to perform the missing value handling task"
      ]
    },
    {
      "cell_type": "markdown",
      "metadata": {
        "id": "GIRXPk79ZnLF"
      },
      "source": [
        "* <b>Checking for duplicate data</b>"
      ]
    },
    {
      "cell_type": "code",
      "execution_count": null,
      "metadata": {
        "id": "e2ixJ0zyZnLF",
        "outputId": "78add617-e11f-47dc-b65a-4937c01661ae"
      },
      "outputs": [
        {
          "data": {
            "text/plain": [
              "0"
            ]
          },
          "execution_count": 220,
          "metadata": {},
          "output_type": "execute_result"
        }
      ],
      "source": [
        "data[data.duplicated()].size"
      ]
    },
    {
      "cell_type": "markdown",
      "metadata": {
        "id": "s3sCmUHEZnLF"
      },
      "source": [
        "* There is also <b>not any duplicate data</b> present in our dataset."
      ]
    },
    {
      "cell_type": "markdown",
      "metadata": {
        "id": "jsfIFhOBZnLF"
      },
      "source": [
        "# Exploratory Data Analysis"
      ]
    },
    {
      "cell_type": "code",
      "execution_count": null,
      "metadata": {
        "scrolled": false,
        "id": "FP7Jh7YxZnLF",
        "outputId": "da56396a-6120-4e5b-87b0-1d50ea57a0bc"
      },
      "outputs": [
        {
          "data": {
            "image/png": "[encoded data removed]",
            "text/plain": [
              "<Figure size 1440x1080 with 9 Axes>"
            ]
          },
          "metadata": {
            "needs_background": "light"
          },
          "output_type": "display_data"
        }
      ],
      "source": [
        "# ploting distribution for each numerical variable present in our data set\n",
        "# using distplot from seaborn\n",
        "\n",
        "columns = data.select_dtypes(include=np.number).columns.tolist()\n",
        "\n",
        "n = 1\n",
        "\n",
        "plt.figure(figsize=(20,15))\n",
        "\n",
        "for column in columns:   \n",
        "    \n",
        "    plt.subplot(4,4,n)\n",
        "    \n",
        "    n = n+1\n",
        "    sns.distplot(data[column])\n",
        "    \n",
        "    plt.tight_layout()"
      ]
    },
    {
      "cell_type": "markdown",
      "metadata": {
        "id": "4eY3RQiJZnLG"
      },
      "source": [
        "### Inference :\n",
        "* The above graphic suggests that the distribution of the annual premium is positively biassed.\n",
        "\n",
        "* We can also see that Vintage has a rather uniform distribution from above."
      ]
    },
    {
      "cell_type": "markdown",
      "metadata": {
        "id": "z8xSyaGfZnLG"
      },
      "source": [
        "### Outlier Detection"
      ]
    },
    {
      "cell_type": "code",
      "execution_count": null,
      "metadata": {
        "id": "dff7sz4vZnLG",
        "outputId": "3e5c0b9f-b219-4d72-8cf0-0535ea924ad6"
      },
      "outputs": [
        {
          "data": {
            "image/png": "[encoded data removed]",
            "text/plain": [
              "<Figure size 1440x1080 with 9 Axes>"
            ]
          },
          "metadata": {
            "needs_background": "light"
          },
          "output_type": "display_data"
        }
      ],
      "source": [
        "# ploting the box plots into subplots of each column\n",
        "\n",
        "columns = data.select_dtypes(include=np.number).columns.tolist()\n",
        "n = 1\n",
        "\n",
        "plt.figure(figsize=(20,15))\n",
        "\n",
        "for column in columns:\n",
        "    plt.subplot(4,4,n)\n",
        "    n = n+1\n",
        "    sns.boxplot(data[column])\n",
        "    plt.tight_layout()\n",
        "    "
      ]
    },
    {
      "cell_type": "markdown",
      "metadata": {
        "id": "Mv7PUfakZnLG"
      },
      "source": [
        "### Inference :\n",
        "\n",
        "* There are some outliers in the age columns, but we won't deal with them because they won't have an impact on the outcome. "
      ]
    },
    {
      "cell_type": "markdown",
      "metadata": {
        "id": "2I9FLu8QZnLH"
      },
      "source": [
        "## Univariate Analysis"
      ]
    },
    {
      "cell_type": "markdown",
      "metadata": {
        "id": "m8ECMSmfZnLH"
      },
      "source": [
        "* <b>Let us go through variables individually and analyse them.</b>"
      ]
    },
    {
      "cell_type": "markdown",
      "metadata": {
        "id": "YUtzvBWuZnLH"
      },
      "source": [
        "#### Gender Column"
      ]
    },
    {
      "cell_type": "code",
      "execution_count": null,
      "metadata": {
        "id": "yUwP5nD5ZnLH",
        "outputId": "cc3cb0f2-92b7-44db-c0ec-3e470e6a16eb"
      },
      "outputs": [
        {
          "data": {
            "text/plain": [
              "Male      206089\n",
              "Female    175020\n",
              "Name: Gender, dtype: int64"
            ]
          },
          "execution_count": 223,
          "metadata": {},
          "output_type": "execute_result"
        }
      ],
      "source": [
        "# Getting the value count for each gender using value_counts from pandas\n",
        "data['Gender'].value_counts()"
      ]
    },
    {
      "cell_type": "code",
      "execution_count": null,
      "metadata": {
        "id": "QBlzV37DZnLH",
        "outputId": "365fd963-fc78-45ac-f2c6-f42358b40e8f"
      },
      "outputs": [
        {
          "data": {
            "text/plain": [
              "Male      54.07613\n",
              "Female    45.92387\n",
              "Name: Gender, dtype: float64"
            ]
          },
          "execution_count": 224,
          "metadata": {},
          "output_type": "execute_result"
        }
      ],
      "source": [
        "# Percentage For Response Column\n",
        "(data['Gender'].value_counts() / data['Gender'].count()) * 100"
      ]
    },
    {
      "cell_type": "code",
      "execution_count": null,
      "metadata": {
        "id": "FpXtk7DtZnLI",
        "outputId": "acf833d1-cdd5-41ce-f7b9-9810928605b6"
      },
      "outputs": [
        {
          "data": {
            "image/png": "[encoded data removed]",
            "text/plain": [
              "<Figure size 576x288 with 1 Axes>"
            ]
          },
          "metadata": {
            "needs_background": "light"
          },
          "output_type": "display_data"
        }
      ],
      "source": [
        "# Ploting count plot for gender column\n",
        "\n",
        "plt.figure(figsize = (8, 4))\n",
        "\n",
        "sns.countplot(data['Gender'])\n",
        "\n",
        "plt.title('Each Gender interested for insurance')\n",
        "\n",
        "plt.xlabel('Each Gender')\n",
        "plt.ylabel('Count for each number of gender')\n",
        "\n",
        "plt.show()"
      ]
    },
    {
      "cell_type": "markdown",
      "metadata": {
        "id": "AUyXi1POZnLI"
      },
      "source": [
        "### Inference :\n",
        "* we see that Males are more interested in buying a insurance rather than females"
      ]
    },
    {
      "cell_type": "code",
      "source": [
        ""
      ],
      "metadata": {
        "id": "OGlFZJgiwwK2"
      },
      "execution_count": null,
      "outputs": []
    },
    {
      "cell_type": "markdown",
      "metadata": {
        "id": "IthXyR5iZnLI"
      },
      "source": [
        "#### Age Column"
      ]
    },
    {
      "cell_type": "code",
      "execution_count": null,
      "metadata": {
        "id": "d1hf8BSiZnLI",
        "outputId": "9af7617b-9c09-47b4-929c-7e13d4bdfea5"
      },
      "outputs": [
        {
          "data": {
            "image/png": "[encoded data removed]",
            "text/plain": [
              "<Figure size 576x288 with 1 Axes>"
            ]
          },
          "metadata": {
            "needs_background": "light"
          },
          "output_type": "display_data"
        }
      ],
      "source": [
        "# Getting the Age column analysis\n",
        "# Ploting Distribution plot for Age column\n",
        "\n",
        "plt.figure(figsize = (8, 4))\n",
        "\n",
        "sns.distplot(data['Age'])\n",
        "\n",
        "plt.title('Each Age for insurance')\n",
        "\n",
        "plt.xlabel('Age')\n",
        "plt.ylabel('Count for each Age')\n",
        "\n",
        "plt.show()"
      ]
    },
    {
      "cell_type": "markdown",
      "metadata": {
        "id": "Ch9nCJJJZnLI"
      },
      "source": [
        "### Inference :\n",
        "\n",
        "* As Age column is not following proper uniform distribution as it is skewed to the right and also it indicates that the people of older age are more wiling to buy an insuarance"
      ]
    },
    {
      "cell_type": "markdown",
      "metadata": {
        "id": "NV5HnMxiZnLJ"
      },
      "source": [
        "#### Driving License Column"
      ]
    },
    {
      "cell_type": "code",
      "execution_count": null,
      "metadata": {
        "id": "ojyZathiZnLJ",
        "outputId": "8156b6cb-4660-44c6-c572-31b970bdf618"
      },
      "outputs": [
        {
          "data": {
            "text/plain": [
              "1    380297\n",
              "0       812\n",
              "Name: Driving_License, dtype: int64"
            ]
          },
          "execution_count": 227,
          "metadata": {},
          "output_type": "execute_result"
        }
      ],
      "source": [
        "# Getting the value count for each Driving License using value_counts from pandas\n",
        "data['Driving_License'].value_counts()"
      ]
    },
    {
      "cell_type": "code",
      "execution_count": null,
      "metadata": {
        "id": "GrPLTPHyZnLJ",
        "outputId": "9058dd21-bef7-4332-9800-f33e93168639"
      },
      "outputs": [
        {
          "data": {
            "image/png": "[encoded data removed]",
            "text/plain": [
              "<Figure size 576x288 with 1 Axes>"
            ]
          },
          "metadata": {
            "needs_background": "light"
          },
          "output_type": "display_data"
        }
      ],
      "source": [
        "# Ploting count plot for Driving License column\n",
        "\n",
        "plt.figure(figsize = (8, 4))\n",
        "\n",
        "sns.countplot(data['Driving_License'])\n",
        "\n",
        "plt.title('Each Driving License(Yes/No) interested for insurance')\n",
        "\n",
        "plt.xlabel('Driving License(Yes/No)')\n",
        "plt.ylabel('Frequency')\n",
        "\n",
        "plt.show()"
      ]
    },
    {
      "cell_type": "markdown",
      "metadata": {
        "id": "DOTzmRHZZnLK"
      },
      "source": [
        "#### Inference :\n",
        "* As we can see that if there is a license holder than it will be more likely to buy an insurance.\n",
        "* Also there is very less count of People who donot have driving license."
      ]
    },
    {
      "cell_type": "markdown",
      "metadata": {
        "id": "q1fsjj5XZnLK"
      },
      "source": [
        "#### Region Code Column"
      ]
    },
    {
      "cell_type": "code",
      "execution_count": null,
      "metadata": {
        "id": "8_QZcIRvZnLK",
        "outputId": "d94810a0-29ef-4051-eb7c-167a90005e29"
      },
      "outputs": [
        {
          "data": {
            "text/plain": [
              "28.0    106415\n",
              "8.0      33877\n",
              "46.0     19749\n",
              "41.0     18263\n",
              "15.0     13308\n",
              "30.0     12191\n",
              "29.0     11065\n",
              "50.0     10243\n",
              "3.0       9251\n",
              "11.0      9232\n",
              "36.0      8797\n",
              "33.0      7654\n",
              "47.0      7436\n",
              "35.0      6942\n",
              "6.0       6280\n",
              "45.0      5605\n",
              "37.0      5501\n",
              "18.0      5153\n",
              "48.0      4681\n",
              "14.0      4678\n",
              "39.0      4644\n",
              "10.0      4374\n",
              "21.0      4266\n",
              "2.0       4038\n",
              "13.0      4036\n",
              "7.0       3279\n",
              "12.0      3198\n",
              "9.0       3101\n",
              "27.0      2823\n",
              "32.0      2787\n",
              "43.0      2639\n",
              "17.0      2617\n",
              "26.0      2587\n",
              "25.0      2503\n",
              "24.0      2415\n",
              "38.0      2026\n",
              "0.0       2021\n",
              "16.0      2007\n",
              "31.0      1960\n",
              "23.0      1960\n",
              "20.0      1935\n",
              "49.0      1832\n",
              "4.0       1801\n",
              "34.0      1664\n",
              "19.0      1535\n",
              "22.0      1309\n",
              "40.0      1295\n",
              "5.0       1279\n",
              "1.0       1008\n",
              "44.0       808\n",
              "42.0       591\n",
              "52.0       267\n",
              "51.0       183\n",
              "Name: Region_Code, dtype: int64"
            ]
          },
          "execution_count": 229,
          "metadata": {},
          "output_type": "execute_result"
        }
      ],
      "source": [
        "# Getting the value count for each Driving License using value_counts from pandas\n",
        "data['Region_Code'].value_counts()"
      ]
    },
    {
      "cell_type": "code",
      "execution_count": null,
      "metadata": {
        "id": "-BLFC--wZnLK",
        "outputId": "dbe34fbb-8765-4e3f-c1f2-62b7ded8cec6"
      },
      "outputs": [
        {
          "data": {
            "image/png": "[encoded data removed]",
            "text/plain": [
              "<Figure size 864x432 with 1 Axes>"
            ]
          },
          "metadata": {
            "needs_background": "light"
          },
          "output_type": "display_data"
        }
      ],
      "source": [
        "# Ploting Distribution plot using Seaborn\n",
        "\n",
        "plt.figure(figsize = (12,6))\n",
        "\n",
        "sns.distplot(data['Region_Code'], kde = False)\n",
        "\n",
        "plt.xlabel('Region Code')\n",
        "\n",
        "plt.title('Region Code Distribution', fontsize = 20)\n",
        "\n",
        "plt.show()"
      ]
    },
    {
      "cell_type": "markdown",
      "metadata": {
        "id": "8znPK-lBZnLK"
      },
      "source": [
        "### Inference :\n",
        "\n",
        "* Area code 28 has the most health insurance clients and region code 51 has the fewest. \n",
        "* As this <b>Region_Code</b> column seems like an categorical column as it has different types of region codes so we will treat it into data_preprocessing part."
      ]
    },
    {
      "cell_type": "markdown",
      "metadata": {
        "id": "fw-xlLS2ZnLL"
      },
      "source": [
        "#### Previously Insured"
      ]
    },
    {
      "cell_type": "code",
      "execution_count": null,
      "metadata": {
        "id": "uE5WPxuhZnLL",
        "outputId": "63713bc7-083e-4f91-c2a6-8be38ee350b2"
      },
      "outputs": [
        {
          "data": {
            "text/plain": [
              "0    206481\n",
              "1    174628\n",
              "Name: Previously_Insured, dtype: int64"
            ]
          },
          "execution_count": 231,
          "metadata": {},
          "output_type": "execute_result"
        }
      ],
      "source": [
        "# Getting the value count for each Previously Insured using value_counts from pandas\n",
        "data['Previously_Insured'].value_counts()"
      ]
    },
    {
      "cell_type": "code",
      "execution_count": null,
      "metadata": {
        "id": "AwqaOE2dZnLL",
        "outputId": "b6f087ef-55a0-403b-97d6-d66af3515df7"
      },
      "outputs": [
        {
          "data": {
            "text/plain": [
              "0    54.178988\n",
              "1    45.821012\n",
              "Name: Previously_Insured, dtype: float64"
            ]
          },
          "execution_count": 232,
          "metadata": {},
          "output_type": "execute_result"
        }
      ],
      "source": [
        "# Percentage For Previously Insured and not previously Insured person\n",
        "(data['Previously_Insured'].value_counts() / data['Previously_Insured'].count()) * 100"
      ]
    },
    {
      "cell_type": "markdown",
      "metadata": {
        "id": "kg22G86sZnLL"
      },
      "source": [
        "* We can see that only 5% of defference is there.\n",
        "* <b>But it also indicate that more than 50% of people doesn't have insurance.</b>"
      ]
    },
    {
      "cell_type": "code",
      "execution_count": null,
      "metadata": {
        "id": "Z7qeELUGZnLL",
        "outputId": "f3d63423-6a25-403c-86a1-32a4fc1b2181"
      },
      "outputs": [
        {
          "data": {
            "image/png": "[encoded data removed]",
            "text/plain": [
              "<Figure size 576x288 with 1 Axes>"
            ]
          },
          "metadata": {
            "needs_background": "light"
          },
          "output_type": "display_data"
        }
      ],
      "source": [
        "# Ploting count plot for Previously Insured column\n",
        "\n",
        "plt.figure(figsize = (8, 4))\n",
        "\n",
        "sns.countplot(data['Previously_Insured'])\n",
        "\n",
        "plt.title('Previously Insured(Yes/No)')\n",
        "\n",
        "plt.xlabel('Previously Insured(Yes/No)')\n",
        "plt.ylabel('Frequency')\n",
        "\n",
        "plt.show()"
      ]
    },
    {
      "cell_type": "markdown",
      "metadata": {
        "id": "Puq75g02ZnLL"
      },
      "source": [
        "### Inference :\n",
        "* We can see that there is almost no effect on insurance buy if a person is already having a insuarance or not\n",
        "* But if we consider more about it then the person who doesn't have any insaurance previously than the person will more like to get an insaurance"
      ]
    },
    {
      "cell_type": "markdown",
      "metadata": {
        "id": "i32KeXUoZnLM"
      },
      "source": [
        "#### Vehicle Age Column"
      ]
    },
    {
      "cell_type": "code",
      "execution_count": null,
      "metadata": {
        "id": "k0BpaOr9ZnLM",
        "outputId": "f62bf841-27cd-4349-bbe6-4a39f96e03ff"
      },
      "outputs": [
        {
          "data": {
            "text/plain": [
              "1-2 Year     200316\n",
              "< 1 Year     164786\n",
              "> 2 Years     16007\n",
              "Name: Vehicle_Age, dtype: int64"
            ]
          },
          "execution_count": 234,
          "metadata": {},
          "output_type": "execute_result"
        }
      ],
      "source": [
        "data['Vehicle_Age'].value_counts()"
      ]
    },
    {
      "cell_type": "code",
      "execution_count": null,
      "metadata": {
        "id": "wK47IWLZZnLM",
        "outputId": "6f69dbe9-d668-40ea-e919-cc660aed41c1"
      },
      "outputs": [
        {
          "data": {
            "text/plain": [
              "1-2 Year     52.561341\n",
              "< 1 Year     43.238549\n",
              "> 2 Years     4.200111\n",
              "Name: Vehicle_Age, dtype: float64"
            ]
          },
          "execution_count": 235,
          "metadata": {},
          "output_type": "execute_result"
        }
      ],
      "source": [
        "# Percentage For Vechile Age\n",
        "(data['Vehicle_Age'].value_counts() / data['Vehicle_Age'].count()) * 100"
      ]
    },
    {
      "cell_type": "markdown",
      "metadata": {
        "id": "VMc3ZxsZZnLM"
      },
      "source": [
        "* <b>95 percent of health insurance consumers own a vehicle that is less than two years old.</b>"
      ]
    },
    {
      "cell_type": "code",
      "execution_count": null,
      "metadata": {
        "id": "0cVbH-rEZnLM",
        "outputId": "84f09b4d-78ac-4d85-dc75-16ed2e668511"
      },
      "outputs": [
        {
          "data": {
            "image/png": "[encoded data removed]",
            "text/plain": [
              "<Figure size 576x288 with 1 Axes>"
            ]
          },
          "metadata": {
            "needs_background": "light"
          },
          "output_type": "display_data"
        }
      ],
      "source": [
        "# Ploting count plot for Vechile Age column\n",
        "\n",
        "plt.figure(figsize = (8, 4))\n",
        "\n",
        "sns.countplot(data['Vehicle_Age'])\n",
        "\n",
        "plt.title('Vechile Age')\n",
        "\n",
        "plt.xlabel('Count for each Vechile Age')\n",
        "plt.ylabel('Frequency')\n",
        "\n",
        "plt.show()"
      ]
    },
    {
      "cell_type": "markdown",
      "metadata": {
        "id": "6bC3CoGsZnLM"
      },
      "source": [
        "### Inference :\n",
        "* We can see that vechel age between 1-2 years have the most number of counts and vechile age less than 2 years has the least count."
      ]
    },
    {
      "cell_type": "markdown",
      "metadata": {
        "id": "87m5YT29ZnLM"
      },
      "source": [
        "#### This Vehicle Age is an type of an categorical variable let us convert it to numeric using labelencoder ffrom sklearn"
      ]
    },
    {
      "cell_type": "code",
      "execution_count": null,
      "metadata": {
        "id": "z6IAHQROZnLN"
      },
      "outputs": [],
      "source": [
        "# importing label encoder from sklearn\n",
        "from sklearn.preprocessing import LabelEncoder"
      ]
    },
    {
      "cell_type": "code",
      "execution_count": null,
      "metadata": {
        "id": "D6BX0eiNZnLN",
        "outputId": "92c0f718-3a37-4e57-b7da-1adb48ffc8bb"
      },
      "outputs": [
        {
          "data": {
            "text/plain": [
              "array([2, 0, 2, ..., 1, 2, 0])"
            ]
          },
          "execution_count": 238,
          "metadata": {},
          "output_type": "execute_result"
        }
      ],
      "source": [
        "# Creating a instance of label Encoder.\n",
        "le = LabelEncoder()\n",
        " \n",
        "# Using .fit_transform function to fit label\n",
        "# encoder and return encoded label\n",
        "label = le.fit_transform(data['Vehicle_Age'])\n",
        " \n",
        "# printing label\n",
        "label"
      ]
    },
    {
      "cell_type": "code",
      "execution_count": null,
      "metadata": {
        "id": "xk0eGN6gZnLN",
        "outputId": "0a66781d-c515-48fd-ece9-22934381b14c"
      },
      "outputs": [
        {
          "name": "stdout",
          "output_type": "stream",
          "text": [
            "id                        int64\n",
            "Gender                   object\n",
            "Age                       int64\n",
            "Driving_License           int64\n",
            "Region_Code             float64\n",
            "Previously_Insured        int64\n",
            "Vehicle_Age               int32\n",
            "Vehicle_Damage           object\n",
            "Annual_Premium          float64\n",
            "Policy_Sales_Channel    float64\n",
            "Vintage                   int64\n",
            "Response                  int64\n",
            "dtype: object\n",
            "\n",
            "Count For Each Vehicle Age\n"
          ]
        },
        {
          "data": {
            "text/plain": [
              "0    200316\n",
              "1    164786\n",
              "2     16007\n",
              "Name: Vehicle_Age, dtype: int64"
            ]
          },
          "execution_count": 239,
          "metadata": {},
          "output_type": "execute_result"
        }
      ],
      "source": [
        "data['Vehicle_Age'] = label\n",
        "print(data.dtypes)\n",
        "print('\\nCount For Each Vehicle Age')\n",
        "data['Vehicle_Age'].value_counts()\n"
      ]
    },
    {
      "cell_type": "markdown",
      "metadata": {
        "id": "txLA9rj0ZnLN"
      },
      "source": [
        "* Here we have successfully converted <b>Vechile Age</b> column into numeric column.\n",
        "\n",
        "* 0 ---> 1-2 Year\n",
        "\n",
        "* 1 ---> < 1 Year\n",
        "\n",
        "* 2 ---> > 2 Year"
      ]
    },
    {
      "cell_type": "markdown",
      "metadata": {
        "id": "Mjk3XOBLZnLN"
      },
      "source": [
        "#### Vehicle Damage Column"
      ]
    },
    {
      "cell_type": "code",
      "execution_count": null,
      "metadata": {
        "id": "56V98Jd1ZnLN",
        "outputId": "b3f37b23-c52b-4213-97ce-8e5e76a18c77"
      },
      "outputs": [
        {
          "data": {
            "text/plain": [
              "Yes    192413\n",
              "No     188696\n",
              "Name: Vehicle_Damage, dtype: int64"
            ]
          },
          "execution_count": 240,
          "metadata": {},
          "output_type": "execute_result"
        }
      ],
      "source": [
        "data['Vehicle_Damage'].value_counts()"
      ]
    },
    {
      "cell_type": "code",
      "execution_count": null,
      "metadata": {
        "id": "8u8EXnjfZnLO",
        "outputId": "f4c11c41-f4e7-40c1-9e36-edd540e6b1e1"
      },
      "outputs": [
        {
          "data": {
            "text/plain": [
              "Yes    50.487656\n",
              "No     49.512344\n",
              "Name: Vehicle_Damage, dtype: float64"
            ]
          },
          "execution_count": 241,
          "metadata": {},
          "output_type": "execute_result"
        }
      ],
      "source": [
        "# Percentage For Vechile Damage\n",
        "(data['Vehicle_Damage'].value_counts() / data['Vehicle_Damage'].count()) * 100"
      ]
    },
    {
      "cell_type": "markdown",
      "metadata": {
        "id": "l6ucZQXtZnLO"
      },
      "source": [
        "* <b>Half of all health insurance customers have had their car destroyed, while the other half have not.</b>"
      ]
    },
    {
      "cell_type": "code",
      "execution_count": null,
      "metadata": {
        "id": "i4Bz5lOjZnLO",
        "outputId": "06d7e1d7-2e5a-4482-e450-ed5a8345dfb8"
      },
      "outputs": [
        {
          "data": {
            "image/png": "[encoded data removed]",
            "text/plain": [
              "<Figure size 576x288 with 1 Axes>"
            ]
          },
          "metadata": {
            "needs_background": "light"
          },
          "output_type": "display_data"
        }
      ],
      "source": [
        "# Ploting count plot for Vechile Age column\n",
        "\n",
        "plt.figure(figsize = (8, 4))\n",
        "\n",
        "sns.countplot(data['Vehicle_Damage'])\n",
        "\n",
        "plt.title('Vechile Damage(Yes/No)')\n",
        "\n",
        "plt.xlabel('Count for each Vechile Damage(Yes/No)')\n",
        "plt.ylabel('Frequency')\n",
        "\n",
        "plt.show()"
      ]
    },
    {
      "cell_type": "markdown",
      "metadata": {
        "id": "xY56iZNBZnLO"
      },
      "source": [
        "### Inference :\n",
        "* Here this count plot is shoeing that there is almost equal count for both the Vehicle property based on damage."
      ]
    },
    {
      "cell_type": "markdown",
      "metadata": {
        "id": "o-ZIqA4aZnLO"
      },
      "source": [
        "#### This Vehicle Age is also an type of categorical variable let us convert it to numeric using labelencoder from sklearn"
      ]
    },
    {
      "cell_type": "code",
      "execution_count": null,
      "metadata": {
        "id": "7SIQBVRyZnLO",
        "outputId": "7e9027ad-1cf2-4274-83bb-718c5d3d252a"
      },
      "outputs": [
        {
          "data": {
            "text/plain": [
              "array([1, 0, 1, ..., 0, 1, 0])"
            ]
          },
          "execution_count": 243,
          "metadata": {},
          "output_type": "execute_result"
        }
      ],
      "source": [
        "# Creating a instance of label Encoder.\n",
        "le = LabelEncoder()\n",
        " \n",
        "# Using .fit_transform function to fit label\n",
        "# encoder and return encoded label\n",
        "label = le.fit_transform(data['Vehicle_Damage'])\n",
        " \n",
        "# printing label\n",
        "label"
      ]
    },
    {
      "cell_type": "code",
      "execution_count": null,
      "metadata": {
        "id": "q81BiPgCZnLP",
        "outputId": "60be766c-3d40-401b-f8ec-a99bdca499ee"
      },
      "outputs": [
        {
          "name": "stdout",
          "output_type": "stream",
          "text": [
            "id                        int64\n",
            "Gender                   object\n",
            "Age                       int64\n",
            "Driving_License           int64\n",
            "Region_Code             float64\n",
            "Previously_Insured        int64\n",
            "Vehicle_Age               int32\n",
            "Vehicle_Damage            int32\n",
            "Annual_Premium          float64\n",
            "Policy_Sales_Channel    float64\n",
            "Vintage                   int64\n",
            "Response                  int64\n",
            "dtype: object\n",
            "\n",
            "Count For Each Vehicle Damage\n"
          ]
        },
        {
          "data": {
            "text/plain": [
              "1    192413\n",
              "0    188696\n",
              "Name: Vehicle_Damage, dtype: int64"
            ]
          },
          "execution_count": 244,
          "metadata": {},
          "output_type": "execute_result"
        }
      ],
      "source": [
        "data['Vehicle_Damage'] = label\n",
        "print(data.dtypes)\n",
        "print('\\nCount For Each Vehicle Damage')\n",
        "data['Vehicle_Damage'].value_counts()\n"
      ]
    },
    {
      "cell_type": "markdown",
      "metadata": {
        "id": "tl68k8slZnLP"
      },
      "source": [
        "* Here we have successfully converted <b>Vechile Damage</b> column into numeric column.\n",
        "\n",
        "* 0 ---> No\n",
        "\n",
        "* 1 ---> Yes"
      ]
    },
    {
      "cell_type": "markdown",
      "metadata": {
        "id": "Z2gxq_YRZnLP"
      },
      "source": [
        "#### Response Column"
      ]
    },
    {
      "cell_type": "code",
      "execution_count": null,
      "metadata": {
        "id": "8DW7NupXZnLP",
        "outputId": "efd1b42e-eb3d-4b7d-d046-63f89188b74c"
      },
      "outputs": [
        {
          "data": {
            "text/plain": [
              "0    334399\n",
              "1     46710\n",
              "Name: Response, dtype: int64"
            ]
          },
          "execution_count": 245,
          "metadata": {},
          "output_type": "execute_result"
        }
      ],
      "source": [
        "data['Response'].value_counts()"
      ]
    },
    {
      "cell_type": "code",
      "execution_count": null,
      "metadata": {
        "id": "wZN2BDyHZnLP",
        "outputId": "0b88d2e3-3db5-43a7-aaad-a85a9363982a"
      },
      "outputs": [
        {
          "data": {
            "text/plain": [
              "0    87.743664\n",
              "1    12.256336\n",
              "Name: Response, dtype: float64"
            ]
          },
          "execution_count": 246,
          "metadata": {},
          "output_type": "execute_result"
        }
      ],
      "source": [
        "# Percentage For Response Column\n",
        "(data['Response'].value_counts() / data['Response'].count()) * 100"
      ]
    },
    {
      "cell_type": "code",
      "execution_count": null,
      "metadata": {
        "id": "BggHOkldZnLP",
        "outputId": "94c8630a-b0c3-41c3-c5d5-f20dde8530b0"
      },
      "outputs": [
        {
          "data": {
            "image/png": "[encoded data removed]",
            "text/plain": [
              "<Figure size 576x288 with 1 Axes>"
            ]
          },
          "metadata": {
            "needs_background": "light"
          },
          "output_type": "display_data"
        }
      ],
      "source": [
        "# Ploting count plot for Vechile Age column\n",
        "\n",
        "plt.figure(figsize = (8, 4))\n",
        "\n",
        "sns.countplot(data['Response'])\n",
        "\n",
        "plt.title('Responses')\n",
        "\n",
        "plt.xlabel('Count for each Response(Yes - 1/No - 0)')\n",
        "plt.ylabel('Frequency')\n",
        "\n",
        "plt.show()"
      ]
    },
    {
      "cell_type": "code",
      "execution_count": null,
      "metadata": {
        "id": "zTHWYiSAZnLQ",
        "outputId": "4b451f28-43bd-49c2-9639-fa792c5bf40f"
      },
      "outputs": [
        {
          "data": {
            "image/png": "[encoded data removed]",
            "text/plain": [
              "<Figure size 432x576 with 1 Axes>"
            ]
          },
          "metadata": {},
          "output_type": "display_data"
        }
      ],
      "source": [
        "#Calculating percentages of interested and non interested people for insuarance\n",
        "\n",
        "int_percntg = abs(len(data[data['Response'] == 1])/len(data)*100)\n",
        "\n",
        "non_int_percntg = abs(len(data[data['Response'] == 0])/len(data)*100)\n",
        "\n",
        "total_prcntg = [int_percntg, non_int_percntg]\n",
        "\n",
        "# Creating a pie chart\n",
        "plt.figure(figsize = (6,8))\n",
        "\n",
        "plt.pie(total_prcntg, labels = ['Interested People','Non Interested People'], autopct = '%.1f%%')\n",
        "\n",
        "plt.title('Positive and negative samples (Percentages)')\n",
        "\n",
        "plt.show()"
      ]
    },
    {
      "cell_type": "markdown",
      "metadata": {
        "id": "mRoJRh8mZnLQ"
      },
      "source": [
        "* <b> Only 12% are interested in purchasing vehicle insurance.</b>\n",
        "\n",
        "\n",
        "* <b>This is also showing the data imbalance as our response as yes is very less i.e 12% which will lead our model to a biased model.</b>\n",
        "\n",
        "\n",
        "* We will use <b>Resampling technique to over come this data imbalance.</b>"
      ]
    },
    {
      "cell_type": "markdown",
      "metadata": {
        "id": "VXqWK_TZZnLQ"
      },
      "source": [
        "#### Checking Policy Sales Channel Column"
      ]
    },
    {
      "cell_type": "code",
      "execution_count": null,
      "metadata": {
        "id": "aObmkQy-ZnLQ",
        "outputId": "2c7cd8fd-461b-432b-c4b9-f036bdbdf9fe"
      },
      "outputs": [
        {
          "data": {
            "text/html": [
              "<div>\n",
              "<style scoped>\n",
              "    .dataframe tbody tr th:only-of-type {\n",
              "        vertical-align: middle;\n",
              "    }\n",
              "\n",
              "    .dataframe tbody tr th {\n",
              "        vertical-align: top;\n",
              "    }\n",
              "\n",
              "    .dataframe thead th {\n",
              "        text-align: right;\n",
              "    }\n",
              "</style>\n",
              "<table border=\"1\" class=\"dataframe\">\n",
              "  <thead>\n",
              "    <tr style=\"text-align: right;\">\n",
              "      <th></th>\n",
              "      <th>Policy_Sales_Channel</th>\n",
              "      <th>count</th>\n",
              "      <th>percent</th>\n",
              "    </tr>\n",
              "  </thead>\n",
              "  <tbody>\n",
              "    <tr>\n",
              "      <th>0</th>\n",
              "      <td>152.0</td>\n",
              "      <td>134784</td>\n",
              "      <td>35.366260</td>\n",
              "    </tr>\n",
              "    <tr>\n",
              "      <th>1</th>\n",
              "      <td>26.0</td>\n",
              "      <td>79700</td>\n",
              "      <td>20.912652</td>\n",
              "    </tr>\n",
              "    <tr>\n",
              "      <th>2</th>\n",
              "      <td>124.0</td>\n",
              "      <td>73995</td>\n",
              "      <td>19.415705</td>\n",
              "    </tr>\n",
              "    <tr>\n",
              "      <th>3</th>\n",
              "      <td>160.0</td>\n",
              "      <td>21779</td>\n",
              "      <td>5.714638</td>\n",
              "    </tr>\n",
              "    <tr>\n",
              "      <th>4</th>\n",
              "      <td>156.0</td>\n",
              "      <td>10661</td>\n",
              "      <td>2.797362</td>\n",
              "    </tr>\n",
              "  </tbody>\n",
              "</table>\n",
              "</div>"
            ],
            "text/plain": [
              "   Policy_Sales_Channel   count    percent\n",
              "0                 152.0  134784  35.366260\n",
              "1                  26.0   79700  20.912652\n",
              "2                 124.0   73995  19.415705\n",
              "3                 160.0   21779   5.714638\n",
              "4                 156.0   10661   2.797362"
            ]
          },
          "execution_count": 249,
          "metadata": {},
          "output_type": "execute_result"
        }
      ],
      "source": [
        "# Using Sidetable's freq attribute to get the count and percentage for the \n",
        "# Policy_Sales_Channel\n",
        "data.stb.freq(['Policy_Sales_Channel'], cum_cols=False).head()"
      ]
    },
    {
      "cell_type": "code",
      "execution_count": null,
      "metadata": {
        "id": "H-8XY-fyZnLR",
        "outputId": "d2216696-962c-4548-8725-c96e5a6f8c24"
      },
      "outputs": [
        {
          "data": {
            "image/png": "[encoded data removed]",
            "text/plain": [
              "<Figure size 864x432 with 1 Axes>"
            ]
          },
          "metadata": {
            "needs_background": "light"
          },
          "output_type": "display_data"
        }
      ],
      "source": [
        "# Ploting Distribution plot using Seaborn\n",
        "\n",
        "plt.figure(figsize = (12,6))\n",
        "\n",
        "sns.distplot(data['Policy_Sales_Channel'], kde = False)\n",
        "\n",
        "plt.xlabel('Policy Sales Channel')\n",
        "\n",
        "plt.title('Policy Sales Channel Distribution', fontsize = 20)\n",
        "\n",
        "plt.show()"
      ]
    },
    {
      "cell_type": "markdown",
      "metadata": {
        "id": "36RZ14F4ZnLR"
      },
      "source": [
        "### Inference :\n",
        "* Two channel clusters make up the majority of the policy sales channel.At 80, they are primarily divided.\n",
        "* Since they are of the float type, it will be preferable to categorise them before one-hot encoding them. "
      ]
    }
  ]
}